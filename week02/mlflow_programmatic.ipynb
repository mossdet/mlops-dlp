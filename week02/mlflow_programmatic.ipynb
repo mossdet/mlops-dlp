{
 "cells": [
  {
   "cell_type": "code",
   "execution_count": 4,
   "id": "3b3238d1",
   "metadata": {},
   "outputs": [
    {
     "name": "stdout",
     "output_type": "stream",
     "text": [
      "/home/ubuntu/mlops-dlp/week02\n",
      "MLflow database already exists.\n"
     ]
    }
   ],
   "source": [
    "import os\n",
    "from mlflow.tracking import MlflowClient\n",
    "\n",
    "print(os.getcwd())\n",
    "if os.path.exists(\"../mlflow_db/mlflow.db\"):\n",
    "    print(\"MLflow database already exists.\")\n",
    "\n",
    "#MLFLOW_TRACKING_URI = \"sqlite:///../mlflow_db/mlflow.db\"\n",
    "mlflow_df_path = \"/home/ubuntu/mlops-dlp/mlflow_db/mlflow.db\"\n",
    "MLFLOW_TRACKING_URI = f\"sqlite:///{mlflow_df_path}\"\n",
    "\n",
    "client = MlflowClient(tracking_uri=MLFLOW_TRACKING_URI)"
   ]
  },
  {
   "cell_type": "code",
   "execution_count": 5,
   "id": "2bc7a7bf",
   "metadata": {},
   "outputs": [
    {
     "data": {
      "text/plain": [
       "[<Experiment: artifact_location='/home/ubuntu/mlops-dlp/mlruns/1', creation_time=1751320603220, experiment_id='1', last_update_time=1751320603220, lifecycle_stage='active', name='nyc-taxi-experiment', tags={}>]"
      ]
     },
     "execution_count": 5,
     "metadata": {},
     "output_type": "execute_result"
    }
   ],
   "source": [
    "client.search_experiments()"
   ]
  },
  {
   "cell_type": "code",
   "execution_count": null,
   "id": "2db65b77",
   "metadata": {},
   "outputs": [],
   "source": []
  }
 ],
 "metadata": {
  "kernelspec": {
   "display_name": "mlops-dlp",
   "language": "python",
   "name": "python3"
  },
  "language_info": {
   "codemirror_mode": {
    "name": "ipython",
    "version": 3
   },
   "file_extension": ".py",
   "mimetype": "text/x-python",
   "name": "python",
   "nbconvert_exporter": "python",
   "pygments_lexer": "ipython3",
   "version": "3.12.3"
  }
 },
 "nbformat": 4,
 "nbformat_minor": 5
}
