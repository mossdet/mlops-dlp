{
 "cells": [
  {
   "cell_type": "markdown",
   "metadata": {},
   "source": [
    "## Scenario 2: A cross-functional team with one data scientist working on an ML model\n",
    "\n",
    "\n",
    "MLflow setup:\n",
    "- tracking server: yes, local server\n",
    "- backend store: sqlite database\n",
    "- artifacts store: local filesystem\n",
    "\n",
    "The experiments can be explored locally by accessing the local tracking server.\n",
    "\n",
    "To run this example you need to launch the mlflow server locally by running the following command in your terminal:\n",
    "\n",
    "`mlflow server --backend-store-uri sqlite:///backend.db`"
   ]
  },
  {
   "cell_type": "code",
   "execution_count": 1,
   "metadata": {},
   "outputs": [],
   "source": [
    "import mlflow\n",
    "from sklearn.linear_model import LogisticRegression\n",
    "from sklearn.datasets import load_iris\n",
    "from sklearn.metrics import accuracy_score\n",
    "from mlflow.tracking import MlflowClient\n"
   ]
  },
  {
   "cell_type": "code",
   "execution_count": 2,
   "metadata": {},
   "outputs": [
    {
     "name": "stdout",
     "output_type": "stream",
     "text": [
      "tracking URI: 'http://127.0.0.1:5000'\n"
     ]
    }
   ],
   "source": [
    "mlflow.set_tracking_uri(\"http://127.0.0.1:5000\")\n",
    "print(f\"tracking URI: '{mlflow.get_tracking_uri()}'\")\n"
   ]
  },
  {
   "cell_type": "code",
   "execution_count": 3,
   "metadata": {},
   "outputs": [
    {
     "data": {
      "text/plain": [
       "[<Experiment: artifact_location='mlflow-artifacts:/1', creation_time=1751509027640, experiment_id='1', last_update_time=1751509027640, lifecycle_stage='active', name='my-experiment-1', tags={}>,\n",
       " <Experiment: artifact_location='mlflow-artifacts:/0', creation_time=1751508685415, experiment_id='0', last_update_time=1751508685415, lifecycle_stage='active', name='Default', tags={}>]"
      ]
     },
     "execution_count": 3,
     "metadata": {},
     "output_type": "execute_result"
    }
   ],
   "source": [
    "mlflow.search_experiments()"
   ]
  },
  {
   "cell_type": "code",
   "execution_count": 4,
   "metadata": {},
   "outputs": [],
   "source": [
    "# Load data\n",
    "X, y = load_iris(return_X_y=True)"
   ]
  },
  {
   "cell_type": "code",
   "execution_count": 16,
   "metadata": {},
   "outputs": [
    {
     "name": "stderr",
     "output_type": "stream",
     "text": [
      "2025/07/03 02:38:21 WARNING mlflow.utils.environment: Failed to resolve installed pip version. ``pip`` will be added to conda.yaml environment spec without a version specifier.\n",
      "\u001b[31m2025/07/03 02:38:21 WARNING mlflow.models.model: Model logged without a signature and input example. Please set `input_example` parameter when logging the model to auto infer the model signature.\u001b[0m\n"
     ]
    },
    {
     "name": "stdout",
     "output_type": "stream",
     "text": [
      "default artifacts URI: 'mlflow-artifacts:/1/2007347f044644549bb153ad52990839/artifacts'\n",
      "🏃 View run salty-mole-896 at: http://127.0.0.1:5000/#/experiments/1/runs/2007347f044644549bb153ad52990839\n",
      "🧪 View experiment at: http://127.0.0.1:5000/#/experiments/1\n"
     ]
    }
   ],
   "source": [
    "mlflow.set_experiment(\"my-experiment-1\")\n",
    "with mlflow.start_run():\n",
    "\n",
    "    params = {\"C\": 0.5, \"random_state\": 42}\n",
    "    mlflow.log_params(params)\n",
    "\n",
    "    lr = LogisticRegression(**params).fit(X, y)\n",
    "    y_pred = lr.predict(X)\n",
    "    mlflow.log_metric(\"accuracy\", accuracy_score(y, y_pred))\n",
    "\n",
    "    mlflow.sklearn.log_model(lr, artifact_path=\"models\")\n",
    "    print(f\"default artifacts URI: '{mlflow.get_artifact_uri()}'\")"
   ]
  },
  {
   "cell_type": "code",
   "execution_count": 17,
   "metadata": {},
   "outputs": [
    {
     "data": {
      "text/plain": [
       "[<Experiment: artifact_location='mlflow-artifacts:/1', creation_time=1751509027640, experiment_id='1', last_update_time=1751509027640, lifecycle_stage='active', name='my-experiment-1', tags={}>]"
      ]
     },
     "execution_count": 17,
     "metadata": {},
     "output_type": "execute_result"
    }
   ],
   "source": [
    "mlflow.search_experiments()"
   ]
  },
  {
   "cell_type": "markdown",
   "metadata": {},
   "source": [
    "### Interacting with the model registry"
   ]
  },
  {
   "cell_type": "code",
   "execution_count": 18,
   "metadata": {},
   "outputs": [],
   "source": [
    "client = MlflowClient(\"http://127.0.0.1:5000\")"
   ]
  },
  {
   "cell_type": "code",
   "execution_count": 19,
   "metadata": {},
   "outputs": [
    {
     "data": {
      "text/plain": [
       "[<RegisteredModel: aliases={}, creation_timestamp=1751509057783, description='', last_updated_timestamp=1751510114944, latest_versions=[<ModelVersion: aliases=[], creation_timestamp=1751510114944, current_stage='None', description='', last_updated_timestamp=1751510114944, name='iris-classifier', run_id='4401f099540641dbae2b067c65927d75', run_link='', source='mlflow-artifacts:/1/4401f099540641dbae2b067c65927d75/artifacts/models', status='READY', status_message=None, tags={}, user_id='', version='2'>], name='iris-classifier', tags={}>]"
      ]
     },
     "execution_count": 19,
     "metadata": {},
     "output_type": "execute_result"
    }
   ],
   "source": [
    "client.search_registered_models()"
   ]
  },
  {
   "cell_type": "code",
   "execution_count": 32,
   "metadata": {},
   "outputs": [
    {
     "name": "stdout",
     "output_type": "stream",
     "text": [
      "Run ID: a36ed9505f3247d99d084b8013bc1994,\n",
      "             Status: FINISHED,\n",
      "             Model: N/A\n",
      "             Accuracy: 0.9733         \n",
      "\n",
      "Run ID: c1e87ac18aba4210a7f78040420085cc,\n",
      "             Status: FINISHED,\n",
      "             Model: N/A\n",
      "             Accuracy: 0.9733         \n",
      "\n",
      "Run ID: a2e4bc8463644160b6bfb0ede5ce3018,\n",
      "             Status: FINISHED,\n",
      "             Model: N/A\n",
      "             Accuracy: 0.9733         \n",
      "\n"
     ]
    }
   ],
   "source": [
    "runs = client.search_runs(experiment_ids='1', order_by=[\"metrics.accuracy desc\"], max_results=3)\n",
    "for run in runs:\n",
    "    # Extract model class from tags\n",
    "    model_class = 'N/A'\n",
    "    if 'model' in list(run.data.tags.keys()):\n",
    "        model_class = run.data.tags['model']\n",
    "    elif 'estimator_class' in list(run.data.tags.keys()):\n",
    "        model_class = run.data.tags['estimator_class']\n",
    "\n",
    "    print(f\"Run ID: {run.info.run_id},\\n \\\n",
    "            Status: {run.info.status},\\n \\\n",
    "            Model: {model_class}\\n \\\n",
    "            Accuracy: {run.data.metrics['accuracy']:.4f} \\\n",
    "        \\n\")\n",
    "    pass"
   ]
  },
  {
   "cell_type": "code",
   "execution_count": 33,
   "metadata": {},
   "outputs": [
    {
     "name": "stderr",
     "output_type": "stream",
     "text": [
      "Registered model 'iris-classifier' already exists. Creating a new version of this model...\n",
      "2025/07/03 02:45:52 INFO mlflow.store.model_registry.abstract_store: Waiting up to 300 seconds for model version to finish creation. Model name: iris-classifier, version 4\n",
      "Created version '4' of model 'iris-classifier'.\n"
     ]
    },
    {
     "data": {
      "text/plain": [
       "<ModelVersion: aliases=[], creation_timestamp=1751510752248, current_stage='None', description='', last_updated_timestamp=1751510752248, name='iris-classifier', run_id='a36ed9505f3247d99d084b8013bc1994', run_link='', source='mlflow-artifacts:/1/a36ed9505f3247d99d084b8013bc1994/artifacts/models', status='READY', status_message=None, tags={}, user_id='', version='4'>"
      ]
     },
     "execution_count": 33,
     "metadata": {},
     "output_type": "execute_result"
    }
   ],
   "source": [
    "run_id = client.search_runs(experiment_ids='1')[0].info.run_id\n",
    "run_id = 'a36ed9505f3247d99d084b8013bc1994'\n",
    "mlflow.register_model(\n",
    "    model_uri=f\"runs:/{run_id}/models\",\n",
    "    name='iris-classifier'\n",
    ")"
   ]
  },
  {
   "cell_type": "code",
   "execution_count": 21,
   "metadata": {},
   "outputs": [
    {
     "data": {
      "text/plain": [
       "[<RegisteredModel: aliases={}, creation_timestamp=1751509057783, description='', last_updated_timestamp=1751510301550, latest_versions=[<ModelVersion: aliases=[], creation_timestamp=1751510301550, current_stage='None', description='', last_updated_timestamp=1751510301550, name='iris-classifier', run_id='2007347f044644549bb153ad52990839', run_link='', source='mlflow-artifacts:/1/2007347f044644549bb153ad52990839/artifacts/models', status='READY', status_message=None, tags={}, user_id='', version='3'>], name='iris-classifier', tags={}>]"
      ]
     },
     "execution_count": 21,
     "metadata": {},
     "output_type": "execute_result"
    }
   ],
   "source": [
    "client.search_registered_models()"
   ]
  },
  {
   "cell_type": "code",
   "execution_count": null,
   "metadata": {},
   "outputs": [],
   "source": [
    "name='iris-classifier'\n",
    "alias = 'Testing'\n",
    "version = '4'\n",
    "client.set_registered_model_alias(name=name, alias=alias, version=version)"
   ]
  },
  {
   "cell_type": "code",
   "execution_count": null,
   "metadata": {},
   "outputs": [],
   "source": []
  }
 ],
 "metadata": {
  "kernelspec": {
   "display_name": "mlops-dlp",
   "language": "python",
   "name": "python3"
  },
  "language_info": {
   "codemirror_mode": {
    "name": "ipython",
    "version": 3
   },
   "file_extension": ".py",
   "mimetype": "text/x-python",
   "name": "python",
   "nbconvert_exporter": "python",
   "pygments_lexer": "ipython3",
   "version": "3.12.3"
  },
  "orig_nbformat": 4
 },
 "nbformat": 4,
 "nbformat_minor": 2
}
